{
 "cells": [
  {
   "cell_type": "code",
   "execution_count": 3,
   "id": "a57351cf",
   "metadata": {},
   "outputs": [
    {
     "name": "stdout",
     "output_type": "stream",
     "text": [
      "1\n"
     ]
    }
   ],
   "source": [
    "x = 1 # Store 1 in variable x\n",
    "\n",
    "print(x) # Print the value of x"
   ]
  },
  {
   "cell_type": "code",
   "execution_count": null,
   "id": "48fc0e73",
   "metadata": {},
   "outputs": [
    {
     "name": "stdout",
     "output_type": "stream",
     "text": [
      "45\n",
      "Sample Patient\n",
      "24.5\n",
      "False\n"
     ]
    }
   ],
   "source": [
    "# Examples:\n",
    "patient_age = 45                    # An integer variable for age\n",
    "patient_name = \"Sample Patient\"     # A string variable for patient name\n",
    "bmi = 24.5                          # A floating-point variable for Body Mass Index (BMI)\n",
    "has_diabetes = False                # A boolean variable indicating if the patient has diabetes\n",
    "\n",
    "# Print the variablesb\n",
    "print(patient_age)\n",
    "print(patient_name)\n",
    "print(bmi)\n",
    "print(has_diabetes)"
   ]
  },
  {
   "cell_type": "code",
   "execution_count": null,
   "id": "4db0c9f4",
   "metadata": {},
   "outputs": [
    {
     "name": "stdout",
     "output_type": "stream",
     "text": [
      "45\n",
      "Sample Patient\n",
      "24.5\n",
      "False\n"
     ]
    }
   ],
   "source": [
    "# Practice: Create and print variables\n",
    "patient_age = 45\n",
    "patient_name = \"Sample Patient\"\n",
    "bmi = 24.5\n",
    "has_diabetes = False\n",
    "\n",
    "print(patient_age)\n",
    "print(patient_name)\n",
    "print(bmi)\n",
    "print(has_diabetes)\n"
   ]
  },
  {
   "cell_type": "code",
   "execution_count": 8,
   "id": "5ac38c9f",
   "metadata": {},
   "outputs": [
    {
     "name": "stdout",
     "output_type": "stream",
     "text": [
      "\n",
      "Here is a list of the Python keywords.  Enter any keyword to get more help.\n",
      "\n",
      "False               class               from                or\n",
      "None                continue            global              pass\n",
      "True                def                 if                  raise\n",
      "and                 del                 import              return\n",
      "as                  elif                in                  try\n",
      "assert              else                is                  while\n",
      "async               except              lambda              with\n",
      "await               finally             nonlocal            yield\n",
      "break               for                 not                 \n",
      "\n"
     ]
    }
   ],
   "source": [
    "help('keywords')"
   ]
  }
 ],
 "metadata": {
  "kernelspec": {
   "display_name": "base",
   "language": "python",
   "name": "python3"
  },
  "language_info": {
   "codemirror_mode": {
    "name": "ipython",
    "version": 3
   },
   "file_extension": ".py",
   "mimetype": "text/x-python",
   "name": "python",
   "nbconvert_exporter": "python",
   "pygments_lexer": "ipython3",
   "version": "3.12.7"
  }
 },
 "nbformat": 4,
 "nbformat_minor": 5
}
