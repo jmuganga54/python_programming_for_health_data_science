{
 "cells": [
  {
   "cell_type": "code",
   "execution_count": 24,
   "id": "1af3985e-84d3-455b-8b66-c70606e16e21",
   "metadata": {},
   "outputs": [
    {
     "name": "stdout",
     "output_type": "stream",
     "text": [
      "[0. 0. 0. 0. 0.]\n",
      "[[1. 1. 1.]\n",
      " [1. 1. 1.]]\n",
      "[[6.  7.5]\n",
      " [8.  1. ]]\n",
      "[0 1 2 3 4 5]\n"
     ]
    }
   ],
   "source": [
    "import numpy as np\n",
    "\n",
    "#Creating arrays\n",
    "\n",
    "arr1 = np.array([6, 7.5, 8, 0, 1])\n",
    "# print(arr1)\n",
    "# print(arr1.dtype)\n",
    "\n",
    "#From nested lists (2D)\n",
    "arr2 = np.array([\n",
    "    [1, 2, 3, 4],\n",
    "    [5, 6, 7, 8]]\n",
    ")\n",
    "# print(arr2)\n",
    "\n",
    "# print(arr2.ndim, arr2.shape)\n",
    "\n",
    "#Zeros, ones, empty\n",
    "zeros = np.zeros(5)\n",
    "print(zeros)\n",
    "\n",
    "ones = np.ones((2, 3)) # you can specify the matrix that you want\n",
    "print(ones)\n",
    "\n",
    "arr_empty = np.empty((2, 2)) # creating an uninitialized array\n",
    "print(arr_empty)\n",
    "\n",
    "#Ranges\n",
    "arr_range = np.arange(6)\n",
    "print(arr_range)\n"
   ]
  },
  {
   "cell_type": "code",
   "execution_count": 27,
   "id": "a5f0b9d2-c5d3-455d-b88a-178b3e3ddec9",
   "metadata": {},
   "outputs": [
    {
     "name": "stdout",
     "output_type": "stream",
     "text": [
      "[[0. 0. 0.]\n",
      " [0. 5. 0.]\n",
      " [0. 0. 0.]]\n"
     ]
    }
   ],
   "source": [
    "#Exercise\n",
    "a = np.zeros(9).reshape(3,3) # array of 9 zeros\n",
    "\n",
    "#set a center to 5\n",
    "a[1, 1] = 5\n",
    "\n",
    "print(a)\n"
   ]
  },
  {
   "cell_type": "code",
   "execution_count": 36,
   "id": "3eee221f-b47c-4969-9feb-36c42cddd6ac",
   "metadata": {},
   "outputs": [
    {
     "name": "stdout",
     "output_type": "stream",
     "text": [
      "[1. 2. 3.]\n",
      "[1 2 3] int32\n",
      "[ 1.25 -9.6  42.  ]\n"
     ]
    }
   ],
   "source": [
    "# Data types and casting\n",
    "arr = np.array([1, 2, 3], dtype = np.float64)\n",
    "# print(arr)\n",
    "\n",
    "arr_i = arr.astype(np.int32) # cast (copy) to int32\n",
    "# print(arr_i, arr_i.dtype)\n",
    "\n",
    "s = np.array([\"1.25\", \"-9.6\", \"42\"])\n",
    "print(s.astype(float))"
   ]
  },
  {
   "cell_type": "code",
   "execution_count": 41,
   "id": "f8b6bf7b-e712-42ec-acb6-5b102d4f54d1",
   "metadata": {},
   "outputs": [
    {
     "name": "stdout",
     "output_type": "stream",
     "text": [
      "[ 3.7 -1.2  0. ]\n",
      "[ 3 -1  0]\n",
      "[ 3 -1  0]\n"
     ]
    }
   ],
   "source": [
    "# Exercise: Casting\n",
    "\n",
    "arr_cast = np.array([3.7, -1.2, 0.0])\n",
    "print(arr_cast)\n",
    "arr_cast_int = arr_cast.astype(int)\n",
    "print(arr_cast_int)\n",
    "\n",
    "#Alternative\n",
    "print(arr_cast.astype(int))\n"
   ]
  },
  {
   "cell_type": "code",
   "execution_count": 49,
   "id": "f33bc465-757f-479b-a6d8-21679a1f2f6e",
   "metadata": {},
   "outputs": [
    {
     "name": "stdout",
     "output_type": "stream",
     "text": [
      "[[1.         0.5        0.33333333]\n",
      " [0.25       0.2        0.16666667]]\n",
      "[[False  True False]\n",
      " [ True False  True]]\n"
     ]
    }
   ],
   "source": [
    "# Vectorized arithmetric and comparisons\n",
    "\n",
    "arr = np.array([\n",
    "        [1., 2., 3.],\n",
    "        [4., 5., 6.]])\n",
    "# print(arr)\n",
    "print(1 / arr)\n",
    "\n",
    "arr2 = np.array([\n",
    "    [0, 4., 1.],\n",
    "    [7., 2., 12.]\n",
    "])\n",
    "\n",
    "print(arr2 > arr)\n"
   ]
  },
  {
   "cell_type": "code",
   "execution_count": 72,
   "id": "e289c020-7538-4c41-8ad6-31d6f88fb538",
   "metadata": {},
   "outputs": [
    {
     "name": "stdout",
     "output_type": "stream",
     "text": [
      "[20.76 22.86 24.69]\n"
     ]
    }
   ],
   "source": [
    "# Exercise BMI\n",
    "\n",
    "w = np.array([60, 70, 80])\n",
    "h = np.array([1.7, 1.75, 1.8])\n",
    "\n",
    "bmi = w / (h ** 2)\n",
    "print(np.round(bmi, 2))"
   ]
  },
  {
   "cell_type": "code",
   "execution_count": 95,
   "id": "48877ffa-5733-45a5-8468-7038c4861403",
   "metadata": {},
   "outputs": [
    {
     "name": "stdout",
     "output_type": "stream",
     "text": [
      "[[1 0 0]\n",
      " [4 0 0]\n",
      " [7 8 9]]\n"
     ]
    }
   ],
   "source": [
    "# Indexing and slicing \n",
    "arr = np.arange(10)\n",
    "# print(arr)\n",
    "# print(arr[5])\n",
    "s1 = arr[5:8]\n",
    "# print(s1)\n",
    "# print(s1.ndim, s1.shape)\n",
    "\n",
    "s1[:] = 99 # modifies the origintal (slices are VIEWS)\n",
    "# print(s1)\n",
    "\n",
    "# 2D indexing\n",
    "arr2d = np.array([\n",
    "    [1, 2, 3],\n",
    "    [4, 5, 6],\n",
    "    [7, 8, 9]\n",
    "])\n",
    "\n",
    "# print(arr2d)\n",
    "# print(arr2d[(0, 2)])\n",
    "# print(arr2d[:2, 1:])\n",
    "\n",
    "# Exercise\n",
    "\n",
    "arr2d[:2, 1:] = 0\n",
    "print(arr2d)\n"
   ]
  },
  {
   "cell_type": "code",
   "execution_count": 99,
   "id": "051d101b-1cd6-4711-8f1d-7b0dfd9d85c0",
   "metadata": {},
   "outputs": [
    {
     "name": "stdout",
     "output_type": "stream",
     "text": [
      "[ True False False  True False False False]\n",
      "[[ 4  7]\n",
      " [-5  6]\n",
      " [ 0  0]\n",
      " [ 1  2]]\n"
     ]
    }
   ],
   "source": [
    "# Boolen Indexing (filters)\n",
    "\n",
    "names = np.array([\"Bob\", \"Joe\", \"Will\", \"Bob\", \"Will\", \"Joe\", \"Joe\"])\n",
    "# print(names)\n",
    "\n",
    "data = np.array([\n",
    "    [4,7],\n",
    "    [0,2],\n",
    "    [-5,6],\n",
    "    [0,0],\n",
    "    [1,2],\n",
    "    [-12,-4],\n",
    "    [3,4]\n",
    "    \n",
    "])\n",
    "mask = (names == \"Bob\") # [ True False False  True False False False]\n",
    "print(mask)\n",
    "\n",
    "print(data[(names == \"Bob\") | (names == \"Will\")])\n"
   ]
  },
  {
   "cell_type": "code",
   "execution_count": 102,
   "id": "285d3217-c905-4c3e-8e8c-3205f9ffc0e2",
   "metadata": {},
   "outputs": [
    {
     "name": "stdout",
     "output_type": "stream",
     "text": [
      "[[4 7]\n",
      " [0 2]\n",
      " [0 6]\n",
      " [0 0]\n",
      " [1 2]\n",
      " [0 0]\n",
      " [3 4]]\n"
     ]
    }
   ],
   "source": [
    "# Exercise\n",
    "# Task: Set all negative entries in data to 0\n",
    "\n",
    "data[data < 0] = 0\n",
    "print(data)"
   ]
  },
  {
   "cell_type": "code",
   "execution_count": 110,
   "id": "6e82fe2b-ddce-4ae3-9f45-68072487537a",
   "metadata": {},
   "outputs": [
    {
     "name": "stdout",
     "output_type": "stream",
     "text": [
      "[[ 0  1  2  3]\n",
      " [ 4  5  6  7]\n",
      " [ 8  9 10 11]\n",
      " [12 13 14 15]\n",
      " [16 17 18 19]\n",
      " [20 21 22 23]\n",
      " [24 25 26 27]\n",
      " [28 29 30 31]]\n",
      "[ 4 23 29 10]\n"
     ]
    },
    {
     "data": {
      "text/plain": [
       "array([[ 4,  7,  5,  6],\n",
       "       [20, 23, 21, 22],\n",
       "       [28, 31, 29, 30],\n",
       "       [ 8, 11,  9, 10]])"
      ]
     },
     "execution_count": 110,
     "metadata": {},
     "output_type": "execute_result"
    }
   ],
   "source": [
    "# Fancy Indexing (integer array)\n",
    "\n",
    "arr = np.arange(32).reshape(8,4)\n",
    "print(arr)\n",
    "\n",
    "print(arr[[1,5, 7, 2], [0, 3, 1, 2]]) # elements (1,0), (5,3), (7, 1), (2,2)\n",
    "\n",
    "# Rectangualr subset in new order:\n",
    "arr[[1, 5, 7, 2]] [:, [0, 3, 1, 2]]"
   ]
  },
  {
   "cell_type": "code",
   "execution_count": 114,
   "id": "3bae4f72-5dcc-4f41-8d8b-3a7dfdec1945",
   "metadata": {},
   "outputs": [
    {
     "name": "stdout",
     "output_type": "stream",
     "text": [
      "[[ 0  1  2  3  4]\n",
      " [ 5  6  7  8  9]\n",
      " [10 11 12 13 14]]\n",
      "(5, 3)\n"
     ]
    }
   ],
   "source": []
  }
 ],
 "metadata": {
  "kernelspec": {
   "display_name": "Python 3 (ipykernel)",
   "language": "python",
   "name": "python3"
  },
  "language_info": {
   "codemirror_mode": {
    "name": "ipython",
    "version": 3
   },
   "file_extension": ".py",
   "mimetype": "text/x-python",
   "name": "python",
   "nbconvert_exporter": "python",
   "pygments_lexer": "ipython3",
   "version": "3.13.5"
  }
 },
 "nbformat": 4,
 "nbformat_minor": 5
}
