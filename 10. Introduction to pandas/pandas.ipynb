{
 "cells": [
  {
   "cell_type": "code",
   "execution_count": 136,
   "id": "81772ea2-c26d-4431-8787-f801838f5e6f",
   "metadata": {},
   "outputs": [
    {
     "name": "stdout",
     "output_type": "stream",
     "text": [
      "0    4\n",
      "1    7\n",
      "2   -5\n",
      "3    3\n",
      "dtype: int64\n",
      "values as a numpy array: [ 4  7 -5  3]\n",
      "index labels: RangeIndex(start=0, stop=4, step=1)\n"
     ]
    }
   ],
   "source": [
    "import numpy as np\n",
    "import pandas as pd\n",
    "\n",
    "#Two core objects: Series and DataFrame\n",
    "s = pd.Series([4,7, -5, 3])\n",
    "print(s)\n",
    "print(\"values as a numpy array:\", s.to_numpy())\n",
    "print(\"index labels:\", s.index)\n"
   ]
  },
  {
   "cell_type": "code",
   "execution_count": 73,
   "id": "b442658f-ce4c-4dd4-b5f4-aa3b93582986",
   "metadata": {},
   "outputs": [
    {
     "name": "stdout",
     "output_type": "stream",
     "text": [
      "The indexs of s2 are: Index(['d', 'b', 'a', 'c'], dtype='object')\n",
      "-5\n",
      "a   -5\n",
      "b    7\n",
      "c    3\n",
      "dtype: int64\n"
     ]
    }
   ],
   "source": [
    "# You can give your own labels\n",
    "s2 = pd.Series([4, 7, -5, 3], index = [\"d\", \"b\", \"a\", \"c\"])\n",
    "print(\"The indexs of s2 are:\", s2.index)\n",
    "print(s2[\"a\"])\n",
    "print(s2[[\"a\", \"b\", \"c\"]])"
   ]
  },
  {
   "cell_type": "code",
   "execution_count": 98,
   "id": "4ff94f14-e035-40a6-b8e4-c5ea57e9b330",
   "metadata": {},
   "outputs": [
    {
     "name": "stdout",
     "output_type": "stream",
     "text": [
      "    state  year  pop\n",
      "0    Ohio  2000  1.5\n",
      "1    Ohio  2001  1.7\n",
      "2  Nevada  2002  2.4\n",
      "state    Nevada\n",
      "year       2002\n",
      "pop         2.4\n",
      "Name: 2, dtype: object\n",
      "state    Nevada\n",
      "year       2002\n",
      "pop         2.4\n",
      "Name: 2, dtype: object\n"
     ]
    }
   ],
   "source": [
    "# DataFrame is a 2D table of columns(each column is a Series)\n",
    "\n",
    "data = {\n",
    "    \"state\": [\"Ohio\", \"Ohio\", \"Nevada\"],\n",
    "    \"year\": [2000, 2001, 2002],\n",
    "    \"pop\": [1.5, 1.7, 2.4]\n",
    "}\n",
    "df = pd.DataFrame(data)\n",
    "print(df)\n",
    "# print(df.head()) # first 5 rows\n",
    "# print(df.tail()) # last 5 rows\n",
    "# print(df[\"state\"]) # column by name -> Series\n",
    "# print(df.year) # dot-access if name is a valid identifer\n",
    "print(df.loc[2]) #row by label (index label 1 here)\n",
    "print(df.iloc[2])"
   ]
  },
  {
   "cell_type": "code",
   "execution_count": 107,
   "id": "77166aa2-bbad-4728-af30-2f8bc5e230f0",
   "metadata": {},
   "outputs": [
    {
     "name": "stdout",
     "output_type": "stream",
     "text": [
      "California    False\n",
      "Ohio           True\n",
      "Oregon         True\n",
      "Texas          True\n",
      "dtype: bool\n"
     ]
    }
   ],
   "source": [
    "# Missing data & checking membership\n",
    "sdata = {\n",
    "    \"Ohio\": 35000,\n",
    "    \"Texas\": 71000,\n",
    "    \"Oregon\": 16000\n",
    "}\n",
    "states = [\"California\", \"Ohio\", \"Oregon\", \"Texas\"]\n",
    "s3 = pd.Series(sdata, index=states)\n",
    "# print(s3)\n",
    "# print(s3.isna())\n",
    "print(s3.notna())"
   ]
  },
  {
   "cell_type": "code",
   "execution_count": 111,
   "id": "fbd9537b-10d8-46aa-a7f9-32d7e6fc671b",
   "metadata": {},
   "outputs": [
    {
     "name": "stdout",
     "output_type": "stream",
     "text": [
      "a    5.2\n",
      "c    1.1\n",
      "d    NaN\n",
      "e    0.0\n",
      "f    NaN\n",
      "g    NaN\n",
      "dtype: float64\n"
     ]
    }
   ],
   "source": [
    "# Alignment & arithmetric (labels matter!)\n",
    "# Series and DataFrame align by labels during arithmetric\n",
    "\n",
    "s1 = pd.Series([7.3, -2.5, 3.4, 1.5], index = [\"a\", \"c\", \"d\", \"e\"])\n",
    "s2 = pd.Series([-2.1, 3.6, -1.5, 4, 3.1], index = [\"a\", \"c\",\"e\",\"f\",\"g\"])\n",
    "\n",
    "print(s1 + s2)"
   ]
  },
  {
   "cell_type": "code",
   "execution_count": 133,
   "id": "c8d45478-8765-4eda-a4ab-9dbb17a906da",
   "metadata": {},
   "outputs": [],
   "source": [
    "#Fill missing during arirthmetric\n",
    "\n",
    "# df1 = pd.DataFrame(np.arrange(12.).reshape(3,4),columns=list(\"abcd\"))\n",
    "# df2 = pd.DataFrame(np.arrange(20.).reshape(4,5),columns=list(\"abcde\"))\n",
    "\n",
    "# print(df1.add(df2, fill_value=0))"
   ]
  },
  {
   "cell_type": "code",
   "execution_count": 139,
   "id": "662477cc-3580-4561-b7de-c9a297ba8c0f",
   "metadata": {},
   "outputs": [
    {
     "name": "stdout",
     "output_type": "stream",
     "text": [
      "    state  year  pop\n",
      "0    Ohio  2000  1.5\n",
      "1    Ohio  2001  1.7\n",
      "2  Nevada  2002  2.4\n",
      "   year  pop\n",
      "0  2000  1.5\n",
      "1  2001  1.7\n",
      "2  2002  2.4\n"
     ]
    }
   ],
   "source": [
    "# Reindexing & dropping\n",
    "#Reindex = reorder rows/cols by new labels (inserting missing if needed)\n",
    "s = pd.Series([4.5, 7.2, -5.3, 3.6], index = [\"d\", \"b\", \"a\",\"c\"])\n",
    "# print(s)\n",
    "# print(s.reindex([\"a\", \"b\", \"c\", \"d\",\"e\"]))\n",
    "\n",
    "# Forward-fill when reindexing ordered data:\n",
    "\n",
    "s2 = pd.Series([\"blue\", \"purple\", \"yellow\"], index=[0, 2, 4])\n",
    "# print(s2)\n",
    "# print(s2.reindex(range(6), method=\"ffill\")) \n",
    "\n",
    "# Drop rows/columns:\n",
    "data = {\n",
    "    \"state\": [\"Ohio\", \"Ohio\", \"Nevada\"],\n",
    "    \"year\": [2000, 2001, 2002],\n",
    "    \"pop\": [1.5, 1.7, 2.4]\n",
    "}\n",
    "df = pd.DataFrame(data)\n",
    "print(df)\n",
    "# print(df.drop(index = [2]))\n",
    "print(df.drop(columns= [\"state\"]))\n"
   ]
  },
  {
   "cell_type": "code",
   "execution_count": null,
   "id": "6bd52541-c30c-4361-927d-8c70f2e5ffcb",
   "metadata": {},
   "outputs": [],
   "source": [
    "# Select loc and iloc(avoid confusion)\n"
   ]
  }
 ],
 "metadata": {
  "kernelspec": {
   "display_name": "Python 3 (ipykernel)",
   "language": "python",
   "name": "python3"
  },
  "language_info": {
   "codemirror_mode": {
    "name": "ipython",
    "version": 3
   },
   "file_extension": ".py",
   "mimetype": "text/x-python",
   "name": "python",
   "nbconvert_exporter": "python",
   "pygments_lexer": "ipython3",
   "version": "3.13.5"
  }
 },
 "nbformat": 4,
 "nbformat_minor": 5
}
